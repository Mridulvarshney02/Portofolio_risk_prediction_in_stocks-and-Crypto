{
  "nbformat": 4,
  "nbformat_minor": 0,
  "metadata": {
    "colab": {
      "provenance": []
    },
    "kernelspec": {
      "name": "python3",
      "display_name": "Python 3"
    },
    "language_info": {
      "name": "python"
    }
  },
  "cells": [
    {
      "cell_type": "code",
      "execution_count": 88,
      "metadata": {
        "colab": {
          "base_uri": "https://localhost:8080/"
        },
        "id": "YwIQ5yO3Z73W",
        "outputId": "41461769-3121-4e97-d962-9607f30ddf20"
      },
      "outputs": [
        {
          "output_type": "stream",
          "name": "stdout",
          "text": [
            "Requirement already satisfied: yfinance in /usr/local/lib/python3.11/dist-packages (0.2.54)\n",
            "Requirement already satisfied: pandas>=1.3.0 in /usr/local/lib/python3.11/dist-packages (from yfinance) (2.2.2)\n",
            "Requirement already satisfied: numpy>=1.16.5 in /usr/local/lib/python3.11/dist-packages (from yfinance) (1.26.4)\n",
            "Requirement already satisfied: requests>=2.31 in /usr/local/lib/python3.11/dist-packages (from yfinance) (2.32.3)\n",
            "Requirement already satisfied: multitasking>=0.0.7 in /usr/local/lib/python3.11/dist-packages (from yfinance) (0.0.11)\n",
            "Requirement already satisfied: platformdirs>=2.0.0 in /usr/local/lib/python3.11/dist-packages (from yfinance) (4.3.6)\n",
            "Requirement already satisfied: pytz>=2022.5 in /usr/local/lib/python3.11/dist-packages (from yfinance) (2025.1)\n",
            "Requirement already satisfied: frozendict>=2.3.4 in /usr/local/lib/python3.11/dist-packages (from yfinance) (2.4.6)\n",
            "Requirement already satisfied: peewee>=3.16.2 in /usr/local/lib/python3.11/dist-packages (from yfinance) (3.17.9)\n",
            "Requirement already satisfied: beautifulsoup4>=4.11.1 in /usr/local/lib/python3.11/dist-packages (from yfinance) (4.13.3)\n",
            "Requirement already satisfied: soupsieve>1.2 in /usr/local/lib/python3.11/dist-packages (from beautifulsoup4>=4.11.1->yfinance) (2.6)\n",
            "Requirement already satisfied: typing-extensions>=4.0.0 in /usr/local/lib/python3.11/dist-packages (from beautifulsoup4>=4.11.1->yfinance) (4.12.2)\n",
            "Requirement already satisfied: python-dateutil>=2.8.2 in /usr/local/lib/python3.11/dist-packages (from pandas>=1.3.0->yfinance) (2.8.2)\n",
            "Requirement already satisfied: tzdata>=2022.7 in /usr/local/lib/python3.11/dist-packages (from pandas>=1.3.0->yfinance) (2025.1)\n",
            "Requirement already satisfied: charset-normalizer<4,>=2 in /usr/local/lib/python3.11/dist-packages (from requests>=2.31->yfinance) (3.4.1)\n",
            "Requirement already satisfied: idna<4,>=2.5 in /usr/local/lib/python3.11/dist-packages (from requests>=2.31->yfinance) (3.10)\n",
            "Requirement already satisfied: urllib3<3,>=1.21.1 in /usr/local/lib/python3.11/dist-packages (from requests>=2.31->yfinance) (2.3.0)\n",
            "Requirement already satisfied: certifi>=2017.4.17 in /usr/local/lib/python3.11/dist-packages (from requests>=2.31->yfinance) (2025.1.31)\n",
            "Requirement already satisfied: six>=1.5 in /usr/local/lib/python3.11/dist-packages (from python-dateutil>=2.8.2->pandas>=1.3.0->yfinance) (1.17.0)\n"
          ]
        }
      ],
      "source": [
        "pip install yfinance"
      ]
    },
    {
      "cell_type": "code",
      "source": [
        "import yfinance as yf\n",
        "import pandas as pd\n",
        "import matplotlib.pyplot as plt\n",
        "\n"
      ],
      "metadata": {
        "id": "usMLXdDSaQZk"
      },
      "execution_count": 89,
      "outputs": []
    },
    {
      "cell_type": "code",
      "source": [
        "import yfinance as yf\n",
        "import pandas as pd\n",
        "import matplotlib.pyplot as plt\n",
        "\n",
        "# Define assets (stocks, ETFs, bonds, crypto)\n",
        "assets = {\n",
        "    \"AAPL\": \"Apple Stock\",\n",
        "    \"GOOGL\": \"Google Stock\",\n",
        "    \"SPY\": \"S&P 500 ETF\",\n",
        "    \"TLT\": \"US Treasury Bonds ETF\",\n",
        "    \"BTC-USD\": \"Bitcoin\",\n",
        "    \"ETH-USD\": \"Ethereum\"\n",
        "}\n",
        "\n",
        "# Dictionary to store valid data\n",
        "data = {}\n",
        "\n",
        "# Fetch historical price data\n",
        "for ticker in assets.keys():\n",
        "    print(f\"Fetching data for {ticker}...\")\n",
        "    stock = yf.download(ticker, start=\"2019-01-01\", end=\"2024-01-01\")\n",
        "\n",
        "    if stock.empty:\n",
        "        print(f\"⚠️ Warning: No data found for {ticker}. Skipping...\")\n",
        "        continue  # Skip this asset\n",
        "\n",
        "    # Ensure the column is a Pandas Series with Date as index\n",
        "    price_series = stock['Adj Close'] if 'Adj Close' in stock.columns else stock['Close']\n",
        "    price_series.name = ticker  # Set the column name properly\n",
        "\n",
        "    data[ticker] = price_series  # Store as Series\n",
        "\n",
        "# Ensure we have at least one valid asset\n",
        "if not data:\n",
        "    raise ValueError(\"❌ No valid asset data found. Please check ticker symbols or API limits.\")\n",
        "\n",
        "# Convert to DataFrame\n",
        "df = pd.concat(data.values(), axis=1)  # Use pd.concat instead of dict-to-DataFrame conversion\n",
        "df.index.name = \"Date\"  # Ensure Date is the index\n",
        "\n",
        "# Handle missing values\n",
        "df.fillna(method='ffill', inplace=True)\n",
        "df.fillna(method='bfill', inplace=True)\n",
        "\n",
        "# Save to CSV for later\n",
        "df.to_csv(\"market_data.csv\")\n",
        "print(\"\\n✅ Data successfully saved to market_data.csv\")\n",
        "\n",
        "# Display first few rows\n",
        "print(df.head())\n",
        "\n",
        "# Plot price trends\n",
        "plt.figure(figsize=(12,6))\n",
        "df.plot(figsize=(12,6))\n",
        "plt.title(\"Price Trends of Different Assets\")\n",
        "plt.xlabel(\"Date\")\n",
        "plt.ylabel(\"Price\")\n",
        "plt.legend(assets.values())\n",
        "plt.grid()\n",
        "plt.show()\n"
      ],
      "metadata": {
        "colab": {
          "base_uri": "https://localhost:8080/",
          "height": 1000
        },
        "id": "G9IwP-z0n_Xt",
        "outputId": "68622e7d-55c6-47f9-b03f-ba9c104650ef"
      },
      "execution_count": 90,
      "outputs": [
        {
          "output_type": "stream",
          "name": "stderr",
          "text": [
            "[*********************100%***********************]  1 of 1 completed\n",
            "[*********************100%***********************]  1 of 1 completed\n",
            "[*********************100%***********************]  1 of 1 completed\n",
            "[*********************100%***********************]  1 of 1 completed\n",
            "[*********************100%***********************]  1 of 1 completed\n",
            "[*********************100%***********************]  1 of 1 completed"
          ]
        },
        {
          "output_type": "stream",
          "name": "stdout",
          "text": [
            "Fetching data for AAPL...\n",
            "Fetching data for GOOGL...\n",
            "Fetching data for SPY...\n",
            "Fetching data for TLT...\n",
            "Fetching data for BTC-USD...\n",
            "Fetching data for ETH-USD...\n"
          ]
        },
        {
          "output_type": "stream",
          "name": "stderr",
          "text": [
            "\n",
            "<ipython-input-90-62019fc851eb>:42: FutureWarning: DataFrame.fillna with 'method' is deprecated and will raise in a future version. Use obj.ffill() or obj.bfill() instead.\n",
            "  df.fillna(method='ffill', inplace=True)\n",
            "<ipython-input-90-62019fc851eb>:43: FutureWarning: DataFrame.fillna with 'method' is deprecated and will raise in a future version. Use obj.ffill() or obj.bfill() instead.\n",
            "  df.fillna(method='bfill', inplace=True)\n"
          ]
        },
        {
          "output_type": "stream",
          "name": "stdout",
          "text": [
            "\n",
            "✅ Data successfully saved to market_data.csv\n",
            "Ticker           AAPL      GOOGL         SPY         TLT      BTC-USD  \\\n",
            "Date                                                                    \n",
            "2019-01-01  37.667187  52.483086  227.637497  104.332146  3843.520020   \n",
            "2019-01-02  37.667187  52.483086  227.637497  104.332146  3943.409424   \n",
            "2019-01-03  33.915257  51.029530  222.205399  105.519379  3836.741211   \n",
            "2019-01-04  35.363068  53.647015  229.648346  104.297966  3857.717529   \n",
            "2019-01-05  35.363068  53.647015  229.648346  104.297966  3845.194580   \n",
            "\n",
            "Ticker         ETH-USD  \n",
            "Date                    \n",
            "2019-01-01  140.819412  \n",
            "2019-01-02  155.047684  \n",
            "2019-01-03  149.135010  \n",
            "2019-01-04  154.581940  \n",
            "2019-01-05  155.638596  \n"
          ]
        },
        {
          "output_type": "display_data",
          "data": {
            "text/plain": [
              "<Figure size 1200x600 with 0 Axes>"
            ]
          },
          "metadata": {}
        },
        {
          "output_type": "display_data",
          "data": {
            "text/plain": [
              "<Figure size 1200x600 with 1 Axes>"
            ],
            "image/png": "[encoded data removed]"
          },
          "metadata": {}
        }
      ]
    },
    {
      "cell_type": "code",
      "source": [
        "import numpy as np\n",
        "\n",
        "# Load the saved dataset\n",
        "df = pd.read_csv(\"market_data.csv\", index_col=\"Date\", parse_dates=True)\n",
        "\n",
        "# Calculate Daily Returns\n",
        "returns = df.pct_change().dropna()\n",
        "\n",
        "# Calculate Volatility (Standard Deviation of Daily Returns)\n",
        "volatility = returns.std()\n",
        "\n",
        "# Compute Value at Risk (VaR) at 95% confidence level\n",
        "VaR_95 = returns.quantile(0.05)\n",
        "\n",
        "# Compute Expected Shortfall (Conditional VaR)\n",
        "CVaR_95 = returns[returns <= VaR_95].mean()\n",
        "\n",
        "# Display results\n",
        "risk_metrics = pd.DataFrame({\"Volatility\": volatility, \"VaR (95%)\": VaR_95, \"CVaR (95%)\": CVaR_95})\n",
        "print(\"\\n📊 Risk Metrics:\")\n",
        "print(risk_metrics)\n",
        "\n",
        "# Save to CSV\n",
        "risk_metrics.to_csv(\"risk_metrics.csv\")\n",
        "print(\"\\n✅ Risk metrics saved to risk_metrics.csv\")\n"
      ],
      "metadata": {
        "colab": {
          "base_uri": "https://localhost:8080/"
        },
        "id": "ONsDEJrTn_un",
        "outputId": "d81f245f-7a21-429c-b648-6d01e643d144"
      },
      "execution_count": 91,
      "outputs": [
        {
          "output_type": "stream",
          "name": "stdout",
          "text": [
            "\n",
            "📊 Risk Metrics:\n",
            "         Volatility  VaR (95%)  CVaR (95%)\n",
            "AAPL       0.016864  -0.025475   -0.040306\n",
            "GOOGL      0.016634  -0.025319   -0.040017\n",
            "SPY        0.010980  -0.015449   -0.027418\n",
            "TLT        0.009223  -0.014744   -0.021037\n",
            "BTC-USD    0.034951  -0.050178   -0.079369\n",
            "ETH-USD    0.044576  -0.065600   -0.102035\n",
            "\n",
            "✅ Risk metrics saved to risk_metrics.csv\n"
          ]
        }
      ]
    },
    {
      "cell_type": "code",
      "source": [
        "import pandas as pd\n",
        "import numpy as np\n",
        "from sklearn.model_selection import train_test_split\n",
        "from sklearn.ensemble import RandomForestClassifier\n",
        "from sklearn.metrics import classification_report, accuracy_score"
      ],
      "metadata": {
        "id": "g4Y066sjocAF"
      },
      "execution_count": 92,
      "outputs": []
    },
    {
      "cell_type": "code",
      "source": [
        "risk_df = pd.read_csv(\"risk_metrics.csv\")\n"
      ],
      "metadata": {
        "id": "tSjSq0T1osnB"
      },
      "execution_count": 93,
      "outputs": []
    },
    {
      "cell_type": "code",
      "source": [
        "df = pd.read_csv(\"market_data.csv\", index_col=\"Date\", parse_dates=True)"
      ],
      "metadata": {
        "id": "VcNnX9njo1DI"
      },
      "execution_count": 94,
      "outputs": []
    },
    {
      "cell_type": "code",
      "source": [
        "returns = df.pct_change().dropna()"
      ],
      "metadata": {
        "id": "6z11Hd3oo37S"
      },
      "execution_count": 95,
      "outputs": []
    },
    {
      "cell_type": "code",
      "source": [
        "rolling_volatility = returns.rolling(window=30).std()\n"
      ],
      "metadata": {
        "id": "DAHgswpko5-8"
      },
      "execution_count": 96,
      "outputs": []
    },
    {
      "cell_type": "code",
      "source": [
        "features = rolling_volatility.shift(1).dropna()"
      ],
      "metadata": {
        "id": "NTbl9afYo7ex"
      },
      "execution_count": 97,
      "outputs": []
    },
    {
      "cell_type": "code",
      "source": [
        "risk_labels = []\n",
        "threshold = features.mean().mean()  # Define risk threshold based on mean volatility\n",
        "\n",
        "for i in range(len(features)):\n",
        "    if rolling_volatility.iloc[i].mean() > threshold:\n",
        "        risk_labels.append(1)  # High Risk\n",
        "    else:\n",
        "        risk_labels.append(0)  # Low Risk\n",
        "\n",
        "# Convert to NumPy array\n",
        "features = features.iloc[:-1]  # Drop last row to match labels\n",
        "labels = np.array(risk_labels[:len(features)])\n",
        "\n",
        "# Split data into train and test sets (80% train, 20% test)\n",
        "X_train, X_test, y_train, y_test = train_test_split(features, labels, test_size=0.2, random_state=42)\n",
        "\n",
        "print(f\"\\n✅ Data Prepared: {X_train.shape[0]} training samples, {X_test.shape[0]} testing samples.\")"
      ],
      "metadata": {
        "colab": {
          "base_uri": "https://localhost:8080/"
        },
        "id": "JMasRNmVo96-",
        "outputId": "658f6af7-c559-4fb2-f851-1703a2d5e212"
      },
      "execution_count": 98,
      "outputs": [
        {
          "output_type": "stream",
          "name": "stdout",
          "text": [
            "\n",
            "✅ Data Prepared: 1435 training samples, 359 testing samples.\n"
          ]
        }
      ]
    },
    {
      "cell_type": "code",
      "source": [
        "# Train Random Forest Classifier\n",
        "rf_model = RandomForestClassifier(n_estimators=100, random_state=42)\n",
        "rf_model.fit(X_train, y_train)\n",
        "\n",
        "# Predictions\n",
        "y_pred = rf_model.predict(X_test)\n",
        "\n",
        "# Evaluate Model\n",
        "print(\"\\n📊 Model Evaluation:\")\n",
        "print(classification_report(y_test, y_pred))\n",
        "print(f\"✅ Accuracy: {accuracy_score(y_test, y_pred) * 100:.2f}%\")\n"
      ],
      "metadata": {
        "colab": {
          "base_uri": "https://localhost:8080/"
        },
        "id": "MDXKV-tlpG1b",
        "outputId": "dd8a1e4e-8ec2-432e-d2ec-d6f557f8902b"
      },
      "execution_count": 99,
      "outputs": [
        {
          "output_type": "stream",
          "name": "stdout",
          "text": [
            "\n",
            "📊 Model Evaluation:\n",
            "              precision    recall  f1-score   support\n",
            "\n",
            "           0       0.97      0.96      0.97       224\n",
            "           1       0.94      0.96      0.95       135\n",
            "\n",
            "    accuracy                           0.96       359\n",
            "   macro avg       0.96      0.96      0.96       359\n",
            "weighted avg       0.96      0.96      0.96       359\n",
            "\n",
            "✅ Accuracy: 96.10%\n"
          ]
        }
      ]
    },
    {
      "cell_type": "code",
      "source": [
        "import matplotlib.pyplot as plt\n",
        "\n",
        "# Feature Importance Plot\n",
        "feature_importance = pd.Series(rf_model.feature_importances_, index=features.columns)\n",
        "feature_importance.nlargest(10).plot(kind='barh', title=\"Top 10 Important Features\", figsize=(10, 5))\n",
        "plt.xlabel(\"Feature Importance Score\")\n",
        "plt.ylabel(\"Assets\")\n",
        "plt.grid()\n",
        "plt.show()\n"
      ],
      "metadata": {
        "colab": {
          "base_uri": "https://localhost:8080/",
          "height": 487
        },
        "id": "5lS1oUMdpHOR",
        "outputId": "9de36629-9501-40a1-c3c0-0983a3cd0e7a"
      },
      "execution_count": 100,
      "outputs": [
        {
          "output_type": "display_data",
          "data": {
            "text/plain": [
              "<Figure size 1000x500 with 1 Axes>"
            ],
            "image/png": "[encoded data removed]"
          },
          "metadata": {}
        }
      ]
    },
    {
      "cell_type": "code",
      "source": [
        "# Define Portfolio Weights\n",
        "def dynamic_portfolio_allocation(predicted_risk):\n",
        "    if predicted_risk == 0:  # Low Risk\n",
        "        return {\"Stocks\": 0.50, \"Crypto\": 0.30, \"Bonds\": 0.20}\n",
        "    else:  # High Risk\n",
        "        return {\"Stocks\": 0.20, \"Crypto\": 0.10, \"Bonds\": 0.70}\n",
        "\n",
        "# Generate dynamic portfolio weights\n",
        "portfolio_weights = [dynamic_portfolio_allocation(pred) for pred in y_pred]\n",
        "\n",
        "# Convert to DataFrame\n",
        "weights_df = pd.DataFrame(portfolio_weights)\n",
        "weights_df.index = X_test.index  # Align with test dataset dates\n",
        "\n",
        "print(\"\\n📊 Sample Portfolio Weights:\")\n",
        "print(weights_df.head())\n",
        "\n",
        "# Save for backtesting\n",
        "weights_df.to_csv(\"portfolio_weights.csv\")\n",
        "print(\"\\n✅ Portfolio weights saved to portfolio_weights.csv\")\n"
      ],
      "metadata": {
        "colab": {
          "base_uri": "https://localhost:8080/"
        },
        "id": "MZcqIKkUpLO7",
        "outputId": "389824f4-32d3-4a57-b4b0-a008b649777a"
      },
      "execution_count": 101,
      "outputs": [
        {
          "output_type": "stream",
          "name": "stdout",
          "text": [
            "\n",
            "📊 Sample Portfolio Weights:\n",
            "            Stocks  Crypto  Bonds\n",
            "Date                             \n",
            "2022-06-19     0.2     0.1    0.7\n",
            "2019-09-09     0.2     0.1    0.7\n",
            "2023-03-28     0.5     0.3    0.2\n",
            "2020-04-14     0.2     0.1    0.7\n",
            "2022-07-23     0.2     0.1    0.7\n",
            "\n",
            "✅ Portfolio weights saved to portfolio_weights.csv\n"
          ]
        }
      ]
    },
    {
      "cell_type": "code",
      "source": [
        "# Compute daily portfolio returns\n",
        "portfolio_returns = (returns * weights_df.shift(1)).sum(axis=1)\n",
        "\n",
        "# Remove NaN values\n",
        "portfolio_returns.dropna(inplace=True)\n",
        "\n",
        "# Cumulative Portfolio Returns\n",
        "cumulative_returns = (1 + portfolio_returns).cumprod()\n",
        "\n",
        "# Plot Performance\n",
        "plt.figure(figsize=(12,6))\n",
        "plt.plot(cumulative_returns, label=\"Optimized Portfolio\", color='green')\n",
        "plt.title(\"📈 Optimized Portfolio Performance\")\n",
        "plt.xlabel(\"Date\")\n",
        "plt.ylabel(\"Cumulative Return\")\n",
        "plt.legend()\n",
        "plt.grid()\n",
        "plt.show()\n"
      ],
      "metadata": {
        "colab": {
          "base_uri": "https://localhost:8080/",
          "height": 620
        },
        "id": "yC6IXnZlpeAi",
        "outputId": "5a0e693b-866d-4416-aa28-2f3e7dd62143"
      },
      "execution_count": 102,
      "outputs": [
        {
          "output_type": "stream",
          "name": "stderr",
          "text": [
            "/usr/local/lib/python3.11/dist-packages/IPython/core/pylabtools.py:151: UserWarning: Glyph 128200 (\\N{CHART WITH UPWARDS TREND}) missing from font(s) DejaVu Sans.\n",
            "  fig.canvas.print_figure(bytes_io, **kw)\n"
          ]
        },
        {
          "output_type": "display_data",
          "data": {
            "text/plain": [
              "<Figure size 1200x600 with 1 Axes>"
            ],
            "image/png": "[encoded data removed]"
          },
          "metadata": {}
        }
      ]
    },
    {
      "cell_type": "code",
      "source": [
        "print(portfolio_returns.describe())  # Check if std() is 0\n",
        "print(portfolio_returns.head(10))   # Look for NaNs or constant values\n"
      ],
      "metadata": {
        "colab": {
          "base_uri": "https://localhost:8080/"
        },
        "id": "BcojL1leqQcU",
        "outputId": "968beb98-5e3a-4dc0-8efb-ce19849f6d8d"
      },
      "execution_count": 103,
      "outputs": [
        {
          "output_type": "stream",
          "name": "stdout",
          "text": [
            "count    1825.0\n",
            "mean        0.0\n",
            "std         0.0\n",
            "min         0.0\n",
            "25%         0.0\n",
            "50%         0.0\n",
            "75%         0.0\n",
            "max         0.0\n",
            "dtype: float64\n",
            "Date\n",
            "2019-01-02    0.0\n",
            "2019-01-03    0.0\n",
            "2019-01-04    0.0\n",
            "2019-01-05    0.0\n",
            "2019-01-06    0.0\n",
            "2019-01-07    0.0\n",
            "2019-01-08    0.0\n",
            "2019-01-09    0.0\n",
            "2019-01-10    0.0\n",
            "2019-01-11    0.0\n",
            "Freq: D, dtype: float64\n"
          ]
        }
      ]
    },
    {
      "cell_type": "code",
      "source": [
        "# Calculate Annualized Return\n",
        "annualized_return = portfolio_returns.mean() * 252  # Assuming 252 trading days\n",
        "\n",
        "# Calculate Annualized Volatility\n",
        "annualized_volatility = portfolio_returns.std() * np.sqrt(252)\n",
        "\n",
        "# Calculate Sharpe Ratio\n",
        "if annualized_volatility == 0:\n",
        "    sharpe_ratio = np.nan  # Avoid division by zero\n",
        "else:\n",
        "    sharpe_ratio = annualized_return / annualized_volatility\n",
        "\n",
        "\n",
        "# Calculate Maximum Drawdown\n",
        "cumulative_max = cumulative_returns.cummax()\n",
        "drawdown = (cumulative_returns - cumulative_max) / cumulative_max\n",
        "max_drawdown = drawdown.min()\n",
        "\n",
        "# Print Portfolio Performance\n",
        "print(f\"\\n📊 Portfolio Performance Metrics:\")\n",
        "print(f\"✅ Annualized Return: {annualized_return:.2%}\")\n",
        "print(f\"✅ Annualized Volatility: {annualized_volatility:.2%}\")\n",
        "print(f\"✅ Sharpe Ratio: {sharpe_ratio:.2f}\")\n",
        "print(f\"✅ Maximum Drawdown: {max_drawdown:.2%}\")\n"
      ],
      "metadata": {
        "colab": {
          "base_uri": "https://localhost:8080/"
        },
        "id": "wdGcF74gpkOm",
        "outputId": "1a8409a7-5e39-4f50-9b7a-4369d625569a"
      },
      "execution_count": 104,
      "outputs": [
        {
          "output_type": "stream",
          "name": "stdout",
          "text": [
            "\n",
            "📊 Portfolio Performance Metrics:\n",
            "✅ Annualized Return: 0.00%\n",
            "✅ Annualized Volatility: 0.00%\n",
            "✅ Sharpe Ratio: nan\n",
            "✅ Maximum Drawdown: 0.00%\n"
          ]
        }
      ]
    },
    {
      "cell_type": "code",
      "source": [
        "print(returns.head(10))  # Check if actual returns are present\n",
        "print(returns.describe())  # Look at mean, std, min, max\n"
      ],
      "metadata": {
        "colab": {
          "base_uri": "https://localhost:8080/"
        },
        "id": "U5bHTvxOptTO",
        "outputId": "33dd7b1b-958d-4998-ba3b-2f2952e7e59d"
      },
      "execution_count": 105,
      "outputs": [
        {
          "output_type": "stream",
          "name": "stdout",
          "text": [
            "                AAPL     GOOGL       SPY       TLT   BTC-USD   ETH-USD\n",
            "Date                                                                  \n",
            "2019-01-02  0.000000  0.000000  0.000000  0.000000  0.025989  0.101039\n",
            "2019-01-03 -0.099607 -0.027696 -0.023863  0.011379 -0.027050 -0.038135\n",
            "2019-01-04  0.042689  0.051294  0.033496 -0.011575  0.005467  0.036523\n",
            "2019-01-05  0.000000  0.000000  0.000000  0.000000 -0.003246  0.006836\n",
            "2019-01-06  0.000000  0.000000  0.000000  0.000000  0.060189  0.013542\n",
            "2019-01-07 -0.002226 -0.001994  0.007885 -0.002948 -0.012605 -0.038334\n",
            "2019-01-08  0.019063  0.008783  0.009395 -0.002628  0.001391 -0.008831\n",
            "2019-01-09  0.016982 -0.003427  0.004674 -0.001565  0.001104  0.002949\n",
            "2019-01-10  0.003196 -0.002607  0.003527 -0.006433 -0.088314 -0.147065\n",
            "2019-01-11 -0.009818 -0.013311  0.000386  0.003902  0.002294 -0.008372\n",
            "              AAPL        GOOGL          SPY          TLT      BTC-USD  \\\n",
            "count  1825.000000  1825.000000  1825.000000  1825.000000  1825.000000   \n",
            "mean      0.001033     0.000672     0.000457    -0.000013     0.001935   \n",
            "std       0.016864     0.016634     0.010980     0.009223     0.034951   \n",
            "min      -0.128647    -0.116341    -0.109424    -0.066683    -0.371695   \n",
            "25%      -0.003354    -0.003554    -0.001788    -0.003547    -0.013115   \n",
            "50%       0.000000     0.000000     0.000000     0.000000     0.000762   \n",
            "75%       0.006737     0.005925     0.003863     0.003198     0.016482   \n",
            "max       0.119809     0.096202     0.090603     0.075196     0.187465   \n",
            "\n",
            "           ETH-USD  \n",
            "count  1825.000000  \n",
            "mean      0.002541  \n",
            "std       0.044576  \n",
            "min      -0.423472  \n",
            "25%      -0.017471  \n",
            "50%       0.000949  \n",
            "75%       0.023640  \n",
            "max       0.259475  \n"
          ]
        }
      ]
    },
    {
      "cell_type": "code",
      "source": [
        "print(weights_df.head(10))  # Check if weights are correct\n",
        "print(weights_df.describe())  # Look for variation in weights\n"
      ],
      "metadata": {
        "colab": {
          "base_uri": "https://localhost:8080/"
        },
        "id": "fMCKRzocqwIF",
        "outputId": "f77838d6-3d8c-49c4-9a07-d4d8c1a4e904"
      },
      "execution_count": 106,
      "outputs": [
        {
          "output_type": "stream",
          "name": "stdout",
          "text": [
            "            Stocks  Crypto  Bonds\n",
            "Date                             \n",
            "2022-06-19     0.2     0.1    0.7\n",
            "2019-09-09     0.2     0.1    0.7\n",
            "2023-03-28     0.5     0.3    0.2\n",
            "2020-04-14     0.2     0.1    0.7\n",
            "2022-07-23     0.2     0.1    0.7\n",
            "2021-05-13     0.5     0.3    0.2\n",
            "2020-12-24     0.2     0.1    0.7\n",
            "2022-08-31     0.2     0.1    0.7\n",
            "2022-02-05     0.5     0.3    0.2\n",
            "2023-04-07     0.5     0.3    0.2\n",
            "           Stocks      Crypto       Bonds\n",
            "count  359.000000  359.000000  359.000000\n",
            "mean     0.385515    0.223677    0.390808\n",
            "std      0.145938    0.097292    0.243231\n",
            "min      0.200000    0.100000    0.200000\n",
            "25%      0.200000    0.100000    0.200000\n",
            "50%      0.500000    0.300000    0.200000\n",
            "75%      0.500000    0.300000    0.700000\n",
            "max      0.500000    0.300000    0.700000\n"
          ]
        }
      ]
    },
    {
      "cell_type": "code",
      "source": [
        "print(\"Returns Index Range:\", returns.index.min(), \"to\", returns.index.max())\n",
        "print(\"Weights Index Range:\", weights_df.index.min(), \"to\", weights_df.index.max())\n"
      ],
      "metadata": {
        "colab": {
          "base_uri": "https://localhost:8080/"
        },
        "id": "za8qX-xbq475",
        "outputId": "7a0c8528-4873-497e-e625-a9b598c7f4a6"
      },
      "execution_count": 107,
      "outputs": [
        {
          "output_type": "stream",
          "name": "stdout",
          "text": [
            "Returns Index Range: 2019-01-02 00:00:00 to 2023-12-31 00:00:00\n",
            "Weights Index Range: 2019-02-24 00:00:00 to 2023-12-20 00:00:00\n"
          ]
        }
      ]
    },
    {
      "cell_type": "code",
      "source": [
        "weights_df = weights_df.reindex(returns.index, method=\"ffill\")  # Fill missing dates\n"
      ],
      "metadata": {
        "id": "ythmYgkYrTxd"
      },
      "execution_count": 111,
      "outputs": []
    },
    {
      "cell_type": "code",
      "source": [
        "weights_df = weights_df.sort_index()\n"
      ],
      "metadata": {
        "id": "ZmplmwjwrdAT"
      },
      "execution_count": 109,
      "outputs": []
    },
    {
      "cell_type": "code",
      "source": [
        "print(weights_df.index.is_monotonic_increasing)  # Should be True\n",
        "print(weights_df.head(10))  # Check first 10 values\n",
        "print(weights_df.tail(10))  # Check last 10 values\n"
      ],
      "metadata": {
        "colab": {
          "base_uri": "https://localhost:8080/"
        },
        "id": "eav5lDaLrkn1",
        "outputId": "73160ae0-b5a1-4ad6-bdf0-59575e56efd1"
      },
      "execution_count": 110,
      "outputs": [
        {
          "output_type": "stream",
          "name": "stdout",
          "text": [
            "True\n",
            "            Stocks  Crypto  Bonds\n",
            "Date                             \n",
            "2019-02-24     0.5     0.3    0.2\n",
            "2019-03-02     0.5     0.3    0.2\n",
            "2019-03-03     0.5     0.3    0.2\n",
            "2019-03-05     0.5     0.3    0.2\n",
            "2019-03-17     0.5     0.3    0.2\n",
            "2019-03-22     0.5     0.3    0.2\n",
            "2019-03-24     0.5     0.3    0.2\n",
            "2019-04-01     0.5     0.3    0.2\n",
            "2019-04-07     0.5     0.3    0.2\n",
            "2019-04-09     0.5     0.3    0.2\n",
            "            Stocks  Crypto  Bonds\n",
            "Date                             \n",
            "2023-11-23     0.5     0.3    0.2\n",
            "2023-11-26     0.5     0.3    0.2\n",
            "2023-12-05     0.5     0.3    0.2\n",
            "2023-12-07     0.5     0.3    0.2\n",
            "2023-12-08     0.5     0.3    0.2\n",
            "2023-12-09     0.5     0.3    0.2\n",
            "2023-12-17     0.5     0.3    0.2\n",
            "2023-12-18     0.5     0.3    0.2\n",
            "2023-12-19     0.5     0.3    0.2\n",
            "2023-12-20     0.5     0.3    0.2\n"
          ]
        }
      ]
    },
    {
      "cell_type": "code",
      "source": [
        "weights_df = weights_df.sort_index().reindex(returns.index, method=\"bfill\").ffill()\n"
      ],
      "metadata": {
        "id": "r08vHjRwrmKt"
      },
      "execution_count": 112,
      "outputs": []
    },
    {
      "cell_type": "code",
      "source": [
        "print(\"Returns Index Range:\", returns.index.min(), \"to\", returns.index.max())\n",
        "print(\"Weights Index Range:\", weights_df.index.min(), \"to\", weights_df.index.max())\n",
        "\n",
        "# Check if all returns index values exist in weights_df\n",
        "print(\"Missing dates in weights_df:\", set(returns.index) - set(weights_df.index))\n"
      ],
      "metadata": {
        "colab": {
          "base_uri": "https://localhost:8080/"
        },
        "id": "xknzZTMrr6yB",
        "outputId": "1ec3e08f-b6ff-4c32-e9ee-4e857b0cf2de"
      },
      "execution_count": 113,
      "outputs": [
        {
          "output_type": "stream",
          "name": "stdout",
          "text": [
            "Returns Index Range: 2019-01-02 00:00:00 to 2023-12-31 00:00:00\n",
            "Weights Index Range: 2019-01-02 00:00:00 to 2023-12-31 00:00:00\n",
            "Missing dates in weights_df: set()\n"
          ]
        }
      ]
    },
    {
      "cell_type": "code",
      "source": [
        "print(weights_df.dtypes)\n",
        "print(returns.dtypes)\n"
      ],
      "metadata": {
        "colab": {
          "base_uri": "https://localhost:8080/"
        },
        "id": "cuAEp3GZsk6M",
        "outputId": "1ba76fbe-9781-4b8f-9746-1d9e65ed1fea"
      },
      "execution_count": 114,
      "outputs": [
        {
          "output_type": "stream",
          "name": "stdout",
          "text": [
            "Stocks    float64\n",
            "Crypto    float64\n",
            "Bonds     float64\n",
            "dtype: object\n",
            "AAPL       float64\n",
            "GOOGL      float64\n",
            "SPY        float64\n",
            "TLT        float64\n",
            "BTC-USD    float64\n",
            "ETH-USD    float64\n",
            "dtype: object\n"
          ]
        }
      ]
    },
    {
      "cell_type": "code",
      "source": [
        "print(\"NaNs in weights_df:\\n\", weights_df.isna().sum())\n",
        "print(\"NaNs in returns:\\n\", returns.isna().sum())\n"
      ],
      "metadata": {
        "colab": {
          "base_uri": "https://localhost:8080/"
        },
        "id": "I-XYodFxstIN",
        "outputId": "c6d0628e-47e9-431e-f331-ee3d7e89e971"
      },
      "execution_count": 118,
      "outputs": [
        {
          "output_type": "stream",
          "name": "stdout",
          "text": [
            "NaNs in weights_df:\n",
            " Stocks    0\n",
            "Crypto    0\n",
            "Bonds     0\n",
            "dtype: int64\n",
            "NaNs in returns:\n",
            " AAPL       0\n",
            "GOOGL      0\n",
            "SPY        0\n",
            "TLT        0\n",
            "BTC-USD    0\n",
            "ETH-USD    0\n",
            "dtype: int64\n"
          ]
        }
      ]
    },
    {
      "cell_type": "code",
      "source": [
        "weights_df = weights_df.fillna(method='ffill').fillna(method='bfill')\n",
        "returns = returns.fillna(0)  # Avoid errors in calculations\n"
      ],
      "metadata": {
        "colab": {
          "base_uri": "https://localhost:8080/"
        },
        "id": "QRykPH7lswtt",
        "outputId": "37423a42-8093-40fc-849f-4a46a82a87d6"
      },
      "execution_count": 116,
      "outputs": [
        {
          "output_type": "stream",
          "name": "stderr",
          "text": [
            "<ipython-input-116-b6b027159bdf>:1: FutureWarning: DataFrame.fillna with 'method' is deprecated and will raise in a future version. Use obj.ffill() or obj.bfill() instead.\n",
            "  weights_df = weights_df.fillna(method='ffill').fillna(method='bfill')\n"
          ]
        }
      ]
    },
    {
      "cell_type": "code",
      "source": [
        "# Compute weighted returns for each asset class\n",
        "weighted_returns = returns * weights_df\n",
        "\n",
        "# Sum the weighted returns across asset classes to get portfolio return\n",
        "portfolio_returns = weighted_returns.sum(axis=1)\n",
        "\n",
        "# Display summary statistics\n",
        "print(portfolio_returns.describe())\n"
      ],
      "metadata": {
        "colab": {
          "base_uri": "https://localhost:8080/"
        },
        "id": "N4zcrLJ4s1ea",
        "outputId": "c7530a8f-40f9-4420-d033-56dfd77b6f83"
      },
      "execution_count": 124,
      "outputs": [
        {
          "output_type": "stream",
          "name": "stdout",
          "text": [
            "count    1825.0\n",
            "mean        0.0\n",
            "std         0.0\n",
            "min         0.0\n",
            "25%         0.0\n",
            "50%         0.0\n",
            "75%         0.0\n",
            "max         0.0\n",
            "dtype: float64\n"
          ]
        }
      ]
    },
    {
      "cell_type": "code",
      "source": [
        "print(returns.describe())\n",
        "print(returns.head())\n"
      ],
      "metadata": {
        "colab": {
          "base_uri": "https://localhost:8080/"
        },
        "id": "6PzuPJ7dvriO",
        "outputId": "1cf61606-fb52-4cb1-f799-66bcd3cb3580"
      },
      "execution_count": 125,
      "outputs": [
        {
          "output_type": "stream",
          "name": "stdout",
          "text": [
            "              AAPL        GOOGL          SPY          TLT      BTC-USD  \\\n",
            "count  1825.000000  1825.000000  1825.000000  1825.000000  1825.000000   \n",
            "mean      0.001033     0.000672     0.000457    -0.000013     0.001935   \n",
            "std       0.016864     0.016634     0.010980     0.009223     0.034951   \n",
            "min      -0.128647    -0.116341    -0.109424    -0.066683    -0.371695   \n",
            "25%      -0.003354    -0.003554    -0.001788    -0.003547    -0.013115   \n",
            "50%       0.000000     0.000000     0.000000     0.000000     0.000762   \n",
            "75%       0.006737     0.005925     0.003863     0.003198     0.016482   \n",
            "max       0.119809     0.096202     0.090603     0.075196     0.187465   \n",
            "\n",
            "           ETH-USD  \n",
            "count  1825.000000  \n",
            "mean      0.002541  \n",
            "std       0.044576  \n",
            "min      -0.423472  \n",
            "25%      -0.017471  \n",
            "50%       0.000949  \n",
            "75%       0.023640  \n",
            "max       0.259475  \n",
            "                AAPL     GOOGL       SPY       TLT   BTC-USD   ETH-USD\n",
            "Date                                                                  \n",
            "2019-01-02  0.000000  0.000000  0.000000  0.000000  0.025989  0.101039\n",
            "2019-01-03 -0.099607 -0.027696 -0.023863  0.011379 -0.027050 -0.038135\n",
            "2019-01-04  0.042689  0.051294  0.033496 -0.011575  0.005467  0.036523\n",
            "2019-01-05  0.000000  0.000000  0.000000  0.000000 -0.003246  0.006836\n",
            "2019-01-06  0.000000  0.000000  0.000000  0.000000  0.060189  0.013542\n"
          ]
        }
      ]
    },
    {
      "cell_type": "code",
      "source": [
        "print(weights_df.describe())\n",
        "print(weights_df.head())\n"
      ],
      "metadata": {
        "colab": {
          "base_uri": "https://localhost:8080/"
        },
        "id": "mqzwW-zlvtg_",
        "outputId": "0627c615-b83d-4732-ee41-72c3aad47743"
      },
      "execution_count": 126,
      "outputs": [
        {
          "output_type": "stream",
          "name": "stdout",
          "text": [
            "            Stocks       Crypto        Bonds\n",
            "count  1825.000000  1825.000000  1825.000000\n",
            "mean      0.383123     0.222082     0.394795\n",
            "std       0.146337     0.097558     0.243895\n",
            "min       0.200000     0.100000     0.200000\n",
            "25%       0.200000     0.100000     0.200000\n",
            "50%       0.500000     0.300000     0.200000\n",
            "75%       0.500000     0.300000     0.700000\n",
            "max       0.500000     0.300000     0.700000\n",
            "            Stocks  Crypto  Bonds\n",
            "Date                             \n",
            "2019-01-02     0.5     0.3    0.2\n",
            "2019-01-03     0.5     0.3    0.2\n",
            "2019-01-04     0.5     0.3    0.2\n",
            "2019-01-05     0.5     0.3    0.2\n",
            "2019-01-06     0.5     0.3    0.2\n"
          ]
        }
      ]
    },
    {
      "cell_type": "code",
      "source": [
        "print(returns.index.equals(weights_df.index))  # Should return True\n"
      ],
      "metadata": {
        "colab": {
          "base_uri": "https://localhost:8080/"
        },
        "id": "v2-YDs2DvzvH",
        "outputId": "e6abcd4d-0728-4515-c502-3e5f936500d8"
      },
      "execution_count": 127,
      "outputs": [
        {
          "output_type": "stream",
          "name": "stdout",
          "text": [
            "True\n"
          ]
        }
      ]
    },
    {
      "cell_type": "code",
      "source": [
        "weighted_returns = returns * weights_df  # Element-wise multiplication\n",
        "portfolio_returns = weighted_returns.sum(axis=1)  # Sum across assets\n",
        "print(portfolio_returns.describe())  # Should NOT be all zeros\n"
      ],
      "metadata": {
        "colab": {
          "base_uri": "https://localhost:8080/"
        },
        "id": "tpxYHITHv_2r",
        "outputId": "696b92eb-a863-4234-e876-235554d19db7"
      },
      "execution_count": 128,
      "outputs": [
        {
          "output_type": "stream",
          "name": "stdout",
          "text": [
            "count    1825.0\n",
            "mean        0.0\n",
            "std         0.0\n",
            "min         0.0\n",
            "25%         0.0\n",
            "50%         0.0\n",
            "75%         0.0\n",
            "max         0.0\n",
            "dtype: float64\n"
          ]
        }
      ]
    },
    {
      "cell_type": "code",
      "source": [
        "print(portfolio_returns.head())  # Should show real values\n"
      ],
      "metadata": {
        "colab": {
          "base_uri": "https://localhost:8080/"
        },
        "id": "VrwXFVYTwErw",
        "outputId": "c36c5065-73cc-4c30-8968-421a11c607ee"
      },
      "execution_count": 129,
      "outputs": [
        {
          "output_type": "stream",
          "name": "stdout",
          "text": [
            "Date\n",
            "2019-01-02    0.0\n",
            "2019-01-03    0.0\n",
            "2019-01-04    0.0\n",
            "2019-01-05    0.0\n",
            "2019-01-06    0.0\n",
            "dtype: float64\n"
          ]
        }
      ]
    },
    {
      "cell_type": "code",
      "source": [
        "print(portfolio_returns.isna().sum())  # Should return 0\n"
      ],
      "metadata": {
        "colab": {
          "base_uri": "https://localhost:8080/"
        },
        "id": "R_xFzyogwIPQ",
        "outputId": "367d05a2-f7dd-454f-95a0-4f964ad31ad7"
      },
      "execution_count": 130,
      "outputs": [
        {
          "output_type": "stream",
          "name": "stdout",
          "text": [
            "0\n"
          ]
        }
      ]
    },
    {
      "cell_type": "code",
      "source": [
        "print(returns.describe())  # Ensure returns are not all zeros\n"
      ],
      "metadata": {
        "colab": {
          "base_uri": "https://localhost:8080/"
        },
        "id": "RCfw0AT4wMTw",
        "outputId": "dee849e8-a912-4710-c915-200d0dc90b2d"
      },
      "execution_count": 131,
      "outputs": [
        {
          "output_type": "stream",
          "name": "stdout",
          "text": [
            "              AAPL        GOOGL          SPY          TLT      BTC-USD  \\\n",
            "count  1825.000000  1825.000000  1825.000000  1825.000000  1825.000000   \n",
            "mean      0.001033     0.000672     0.000457    -0.000013     0.001935   \n",
            "std       0.016864     0.016634     0.010980     0.009223     0.034951   \n",
            "min      -0.128647    -0.116341    -0.109424    -0.066683    -0.371695   \n",
            "25%      -0.003354    -0.003554    -0.001788    -0.003547    -0.013115   \n",
            "50%       0.000000     0.000000     0.000000     0.000000     0.000762   \n",
            "75%       0.006737     0.005925     0.003863     0.003198     0.016482   \n",
            "max       0.119809     0.096202     0.090603     0.075196     0.187465   \n",
            "\n",
            "           ETH-USD  \n",
            "count  1825.000000  \n",
            "mean      0.002541  \n",
            "std       0.044576  \n",
            "min      -0.423472  \n",
            "25%      -0.017471  \n",
            "50%       0.000949  \n",
            "75%       0.023640  \n",
            "max       0.259475  \n"
          ]
        }
      ]
    },
    {
      "cell_type": "code",
      "source": [
        "print(weights_df.describe())  # Should show variation\n",
        "print(weights_df.nunique())  # Should be >1 for dynamic weights\n"
      ],
      "metadata": {
        "colab": {
          "base_uri": "https://localhost:8080/"
        },
        "id": "7ou8GqQzGBNy",
        "outputId": "42b971a7-33ef-4a11-e7b4-fadd45e830c7"
      },
      "execution_count": 132,
      "outputs": [
        {
          "output_type": "stream",
          "name": "stdout",
          "text": [
            "            Stocks       Crypto        Bonds\n",
            "count  1825.000000  1825.000000  1825.000000\n",
            "mean      0.383123     0.222082     0.394795\n",
            "std       0.146337     0.097558     0.243895\n",
            "min       0.200000     0.100000     0.200000\n",
            "25%       0.200000     0.100000     0.200000\n",
            "50%       0.500000     0.300000     0.200000\n",
            "75%       0.500000     0.300000     0.700000\n",
            "max       0.500000     0.300000     0.700000\n",
            "Stocks    2\n",
            "Crypto    2\n",
            "Bonds     2\n",
            "dtype: int64\n"
          ]
        }
      ]
    },
    {
      "cell_type": "code",
      "source": [
        "print(returns.index.equals(weights_df.index))  # Should be True\n"
      ],
      "metadata": {
        "colab": {
          "base_uri": "https://localhost:8080/"
        },
        "id": "gM5zrapZGJx7",
        "outputId": "f19c9c33-4b57-4439-d5e6-4161f9ed8238"
      },
      "execution_count": 133,
      "outputs": [
        {
          "output_type": "stream",
          "name": "stdout",
          "text": [
            "True\n"
          ]
        }
      ]
    },
    {
      "cell_type": "code",
      "source": [
        "print(returns.columns)\n",
        "print(weights_df.columns)\n"
      ],
      "metadata": {
        "colab": {
          "base_uri": "https://localhost:8080/"
        },
        "id": "1uOaAtpzGeFe",
        "outputId": "bb4a2680-3ea7-41a5-aee4-6b22e48bb448"
      },
      "execution_count": 134,
      "outputs": [
        {
          "output_type": "stream",
          "name": "stdout",
          "text": [
            "Index(['AAPL', 'GOOGL', 'SPY', 'TLT', 'BTC-USD', 'ETH-USD'], dtype='object')\n",
            "Index(['Stocks', 'Crypto', 'Bonds'], dtype='object')\n"
          ]
        }
      ]
    },
    {
      "cell_type": "code",
      "source": [
        "# Define which assets belong to which category\n",
        "asset_category_map = {\n",
        "    \"AAPL\": \"Stocks\",\n",
        "    \"GOOGL\": \"Stocks\",\n",
        "    \"SPY\": \"Stocks\",\n",
        "    \"TLT\": \"Bonds\",\n",
        "    \"BTC-USD\": \"Crypto\",\n",
        "    \"ETH-USD\": \"Crypto\",\n",
        "}\n",
        "\n",
        "# Map weights to each asset\n",
        "aligned_weights = returns.copy()\n",
        "for asset in returns.columns:\n",
        "    category = asset_category_map[asset]  # Get category (e.g., \"Stocks\")\n",
        "    aligned_weights[asset] = weights_df[category]  # Assign corresponding category weight\n",
        "\n",
        "# Check if aligned correctly\n",
        "print(aligned_weights.head())\n"
      ],
      "metadata": {
        "colab": {
          "base_uri": "https://localhost:8080/"
        },
        "id": "fpHNHPCpGh_E",
        "outputId": "f7c1e85d-4eff-40c8-fe24-b91a3b063019"
      },
      "execution_count": 135,
      "outputs": [
        {
          "output_type": "stream",
          "name": "stdout",
          "text": [
            "            AAPL  GOOGL  SPY  TLT  BTC-USD  ETH-USD\n",
            "Date                                               \n",
            "2019-01-02   0.5    0.5  0.5  0.2      0.3      0.3\n",
            "2019-01-03   0.5    0.5  0.5  0.2      0.3      0.3\n",
            "2019-01-04   0.5    0.5  0.5  0.2      0.3      0.3\n",
            "2019-01-05   0.5    0.5  0.5  0.2      0.3      0.3\n",
            "2019-01-06   0.5    0.5  0.5  0.2      0.3      0.3\n"
          ]
        }
      ]
    },
    {
      "cell_type": "code",
      "source": [
        "weighted_returns = returns * aligned_weights\n",
        "print(weighted_returns.describe())  # Should NOT be all zeros\n"
      ],
      "metadata": {
        "colab": {
          "base_uri": "https://localhost:8080/"
        },
        "id": "tq9yh5r3Gv36",
        "outputId": "9f05dffb-1893-47d2-cd5a-0b732470c8f1"
      },
      "execution_count": 136,
      "outputs": [
        {
          "output_type": "stream",
          "name": "stdout",
          "text": [
            "              AAPL        GOOGL          SPY          TLT      BTC-USD  \\\n",
            "count  1825.000000  1825.000000  1825.000000  1825.000000  1825.000000   \n",
            "mean      0.000392     0.000266     0.000170    -0.000092     0.000447   \n",
            "std       0.006916     0.006730     0.004461     0.004231     0.008351   \n",
            "min      -0.064324    -0.058171    -0.054712    -0.023928    -0.111509   \n",
            "25%      -0.001125    -0.001149    -0.000655    -0.000956    -0.002333   \n",
            "50%       0.000000     0.000000     0.000000     0.000000     0.000180   \n",
            "75%       0.002307     0.001980     0.001307     0.000920     0.003058   \n",
            "max       0.059904     0.048101     0.045302     0.026932     0.056239   \n",
            "\n",
            "           ETH-USD  \n",
            "count  1825.000000  \n",
            "mean      0.000540  \n",
            "std       0.010646  \n",
            "min      -0.127042  \n",
            "25%      -0.003272  \n",
            "50%       0.000166  \n",
            "75%       0.004145  \n",
            "max       0.075941  \n"
          ]
        }
      ]
    },
    {
      "cell_type": "code",
      "source": [
        "portfolio_returns = weighted_returns.sum(axis=1)  # Sum across assets\n",
        "print(portfolio_returns.describe())  # Check portfolio return stats\n"
      ],
      "metadata": {
        "colab": {
          "base_uri": "https://localhost:8080/"
        },
        "id": "65s_lWiSGzNb",
        "outputId": "0c3d37f9-ec8b-4e16-d56c-d027ae63f0a5"
      },
      "execution_count": 137,
      "outputs": [
        {
          "output_type": "stream",
          "name": "stdout",
          "text": [
            "count    1825.000000\n",
            "mean        0.001723\n",
            "std         0.027831\n",
            "min        -0.375550\n",
            "25%        -0.007875\n",
            "50%         0.001364\n",
            "75%         0.012231\n",
            "max         0.235805\n",
            "dtype: float64\n"
          ]
        }
      ]
    },
    {
      "cell_type": "code",
      "source": [
        "annualized_return = portfolio_returns.mean() * 252  # 252 trading days\n",
        "print(f\"Annualized Return: {annualized_return:.4f}\")\n"
      ],
      "metadata": {
        "colab": {
          "base_uri": "https://localhost:8080/"
        },
        "id": "6EHeJH3MG97R",
        "outputId": "aae784ca-726f-4860-bdb6-94fc5938c588"
      },
      "execution_count": 138,
      "outputs": [
        {
          "output_type": "stream",
          "name": "stdout",
          "text": [
            "Annualized Return: 0.4343\n"
          ]
        }
      ]
    },
    {
      "cell_type": "code",
      "source": [
        "annualized_volatility = portfolio_returns.std() * (252 ** 0.5)\n",
        "print(f\"Annualized Volatility: {annualized_volatility:.4f}\")\n"
      ],
      "metadata": {
        "colab": {
          "base_uri": "https://localhost:8080/"
        },
        "id": "ZhqKWl2HHCrU",
        "outputId": "7931b270-243a-441a-c612-e5ce6d42422a"
      },
      "execution_count": 139,
      "outputs": [
        {
          "output_type": "stream",
          "name": "stdout",
          "text": [
            "Annualized Volatility: 0.4418\n"
          ]
        }
      ]
    },
    {
      "cell_type": "code",
      "source": [
        "sharpe_ratio = annualized_return / annualized_volatility\n",
        "print(f\"Sharpe Ratio: {sharpe_ratio:.4f}\")\n"
      ],
      "metadata": {
        "colab": {
          "base_uri": "https://localhost:8080/"
        },
        "id": "MBN3uRhRHEec",
        "outputId": "d35ccc34-a7c9-4fdf-f79d-7bddae4bc4f1"
      },
      "execution_count": 140,
      "outputs": [
        {
          "output_type": "stream",
          "name": "stdout",
          "text": [
            "Sharpe Ratio: 0.9830\n"
          ]
        }
      ]
    },
    {
      "cell_type": "code",
      "source": [
        "cumulative_returns = (1 + portfolio_returns).cumprod()\n",
        "cumulative_returns.plot(title=\"Portfolio Cumulative Returns\", figsize=(10,5))\n"
      ],
      "metadata": {
        "colab": {
          "base_uri": "https://localhost:8080/",
          "height": 505
        },
        "id": "0DsU3ZAqHFy2",
        "outputId": "5929404b-4de6-4106-80b3-37b6941dcbd6"
      },
      "execution_count": 141,
      "outputs": [
        {
          "output_type": "execute_result",
          "data": {
            "text/plain": [
              "<Axes: title={'center': 'Portfolio Cumulative Returns'}, xlabel='Date'>"
            ]
          },
          "metadata": {},
          "execution_count": 141
        },
        {
          "output_type": "display_data",
          "data": {
            "text/plain": [
              "<Figure size 1000x500 with 1 Axes>"
            ],
            "image/png": "[encoded data removed]"
          },
          "metadata": {}
        }
      ]
    },
    {
      "cell_type": "code",
      "source": [
        "rolling_max = cumulative_returns.cummax()\n",
        "drawdown = (cumulative_returns - rolling_max) / rolling_max\n",
        "max_drawdown = drawdown.min()\n",
        "print(f\"Max Drawdown: {max_drawdown:.4f}\")\n"
      ],
      "metadata": {
        "colab": {
          "base_uri": "https://localhost:8080/"
        },
        "id": "KQ3UwtKMHG_x",
        "outputId": "468323fb-7670-4f93-fae1-198433a3a343"
      },
      "execution_count": 142,
      "outputs": [
        {
          "output_type": "stream",
          "name": "stdout",
          "text": [
            "Max Drawdown: -0.6370\n"
          ]
        }
      ]
    },
    {
      "cell_type": "code",
      "source": [
        "downside_volatility = portfolio_returns[portfolio_returns < 0].std() * (252 ** 0.5)\n",
        "sortino_ratio = annualized_return / downside_volatility\n",
        "print(f\"Sortino Ratio: {sortino_ratio:.4f}\")\n"
      ],
      "metadata": {
        "colab": {
          "base_uri": "https://localhost:8080/"
        },
        "id": "fT-bt3PVHWmD",
        "outputId": "5a8ffbf8-0fee-43d5-c53f-6e52b871e147"
      },
      "execution_count": 143,
      "outputs": [
        {
          "output_type": "stream",
          "name": "stdout",
          "text": [
            "Sortino Ratio: 1.1344\n"
          ]
        }
      ]
    },
    {
      "cell_type": "code",
      "source": [
        "import numpy as np\n",
        "import pandas as pd\n",
        "from scipy.optimize import minimize\n",
        "\n",
        "# Function to calculate Sortino Ratio\n",
        "def sortino_ratio(weights, returns, risk_free_rate=0.0):\n",
        "    portfolio_returns = returns @ weights\n",
        "    mean_return = np.mean(portfolio_returns)\n",
        "    downside_returns = portfolio_returns[portfolio_returns < 0]\n",
        "    downside_risk = np.std(downside_returns)\n",
        "    return -mean_return / downside_risk  # Negative for minimization\n",
        "\n",
        "# Optimization function\n",
        "def optimize_portfolio(returns):\n",
        "    num_assets = returns.shape[1]\n",
        "    initial_weights = np.ones(num_assets) / num_assets  # Equal allocation\n",
        "    bounds = [(0, 1) for _ in range(num_assets)]  # No short selling\n",
        "    constraints = ({'type': 'eq', 'fun': lambda w: np.sum(w) - 1})  # Weights sum to 1\n",
        "\n",
        "    result = minimize(sortino_ratio, initial_weights, args=(returns,),\n",
        "                      method='SLSQP', bounds=bounds, constraints=constraints)\n",
        "\n",
        "    return result.x  # Optimal weights\n",
        "\n",
        "# Example Usage\n",
        "# Assume 'returns' is a DataFrame with asset returns\n",
        "optimal_weights = optimize_portfolio(returns)\n",
        "print(\"Optimized Weights:\", optimal_weights)\n"
      ],
      "metadata": {
        "colab": {
          "base_uri": "https://localhost:8080/"
        },
        "id": "inlwQNsOHZYl",
        "outputId": "5464c2fe-3515-452c-c074-b13ed821e6be"
      },
      "execution_count": 144,
      "outputs": [
        {
          "output_type": "stream",
          "name": "stdout",
          "text": [
            "Optimized Weights: [5.57838820e-01 3.60776747e-17 8.35407241e-18 2.40867934e-01\n",
            " 1.69681635e-18 2.01293246e-01]\n"
          ]
        }
      ]
    },
    {
      "cell_type": "code",
      "source": [
        "\n",
        "\n",
        "def calculate_var_cvar(portfolio_returns, confidence_level=0.95):\n",
        "    \"\"\"\n",
        "    Calculate Value at Risk (VaR) and Conditional Value at Risk (CVaR)\n",
        "    \"\"\"\n",
        "    # Sort returns\n",
        "    sorted_returns = np.sort(portfolio_returns)\n",
        "\n",
        "    # Calculate index for the VaR threshold\n",
        "    var_index = int((1 - confidence_level) * len(sorted_returns))\n",
        "\n",
        "    # Value at Risk (VaR)\n",
        "    var_95 = sorted_returns[var_index]\n",
        "\n",
        "    # Conditional Value at Risk (CVaR)\n",
        "    cvar_95 = sorted_returns[:var_index].mean()\n",
        "\n",
        "    return var_95, cvar_95\n",
        "\n",
        "# Compute for your portfolio\n",
        "var_95, cvar_95 = calculate_var_cvar(portfolio_returns)\n",
        "\n",
        "print(f\"95% Value at Risk (VaR): {var_95:.4f}\")\n",
        "print(f\"95% Conditional Value at Risk (CVaR): {cvar_95:.4f}\")\n"
      ],
      "metadata": {
        "colab": {
          "base_uri": "https://localhost:8080/"
        },
        "id": "ctrSk2mBID73",
        "outputId": "374c8f10-81ae-4554-c455-9e58caf0b7bd"
      },
      "execution_count": 145,
      "outputs": [
        {
          "output_type": "stream",
          "name": "stdout",
          "text": [
            "95% Value at Risk (VaR): -0.0382\n",
            "95% Conditional Value at Risk (CVaR): -0.0662\n"
          ]
        }
      ]
    },
    {
      "cell_type": "code",
      "source": [
        "pip install streamlit"
      ],
      "metadata": {
        "colab": {
          "base_uri": "https://localhost:8080/"
        },
        "id": "bXNs4yO-IfjM",
        "outputId": "2fe08c26-1fc6-4322-d6f3-a118946f0f79"
      },
      "execution_count": 146,
      "outputs": [
        {
          "output_type": "stream",
          "name": "stdout",
          "text": [
            "Collecting streamlit\n",
            "  Downloading streamlit-1.43.2-py2.py3-none-any.whl.metadata (8.9 kB)\n",
            "Requirement already satisfied: altair<6,>=4.0 in /usr/local/lib/python3.11/dist-packages (from streamlit) (5.5.0)\n",
            "Requirement already satisfied: blinker<2,>=1.0.0 in /usr/local/lib/python3.11/dist-packages (from streamlit) (1.9.0)\n",
            "Requirement already satisfied: cachetools<6,>=4.0 in /usr/local/lib/python3.11/dist-packages (from streamlit) (5.5.2)\n",
            "Requirement already satisfied: click<9,>=7.0 in /usr/local/lib/python3.11/dist-packages (from streamlit) (8.1.8)\n",
            "Requirement already satisfied: numpy<3,>=1.23 in /usr/local/lib/python3.11/dist-packages (from streamlit) (1.26.4)\n",
            "Requirement already satisfied: packaging<25,>=20 in /usr/local/lib/python3.11/dist-packages (from streamlit) (24.2)\n",
            "Requirement already satisfied: pandas<3,>=1.4.0 in /usr/local/lib/python3.11/dist-packages (from streamlit) (2.2.2)\n",
            "Requirement already satisfied: pillow<12,>=7.1.0 in /usr/local/lib/python3.11/dist-packages (from streamlit) (11.1.0)\n",
            "Requirement already satisfied: protobuf<6,>=3.20 in /usr/local/lib/python3.11/dist-packages (from streamlit) (4.25.6)\n",
            "Requirement already satisfied: pyarrow>=7.0 in /usr/local/lib/python3.11/dist-packages (from streamlit) (18.1.0)\n",
            "Requirement already satisfied: requests<3,>=2.27 in /usr/local/lib/python3.11/dist-packages (from streamlit) (2.32.3)\n",
            "Requirement already satisfied: tenacity<10,>=8.1.0 in /usr/local/lib/python3.11/dist-packages (from streamlit) (9.0.0)\n",
            "Requirement already satisfied: toml<2,>=0.10.1 in /usr/local/lib/python3.11/dist-packages (from streamlit) (0.10.2)\n",
            "Requirement already satisfied: typing-extensions<5,>=4.4.0 in /usr/local/lib/python3.11/dist-packages (from streamlit) (4.12.2)\n",
            "Collecting watchdog<7,>=2.1.5 (from streamlit)\n",
            "  Downloading watchdog-6.0.0-py3-none-manylinux2014_x86_64.whl.metadata (44 kB)\n",
            "\u001b[2K     \u001b[90m━━━━━━━━━━━━━━━━━━━━━━━━━━━━━━━━━━━━━━━━\u001b[0m \u001b[32m44.3/44.3 kB\u001b[0m \u001b[31m1.9 MB/s\u001b[0m eta \u001b[36m0:00:00\u001b[0m\n",
            "\u001b[?25hRequirement already satisfied: gitpython!=3.1.19,<4,>=3.0.7 in /usr/local/lib/python3.11/dist-packages (from streamlit) (3.1.44)\n",
            "Collecting pydeck<1,>=0.8.0b4 (from streamlit)\n",
            "  Downloading pydeck-0.9.1-py2.py3-none-any.whl.metadata (4.1 kB)\n",
            "Requirement already satisfied: tornado<7,>=6.0.3 in /usr/local/lib/python3.11/dist-packages (from streamlit) (6.4.2)\n",
            "Requirement already satisfied: jinja2 in /usr/local/lib/python3.11/dist-packages (from altair<6,>=4.0->streamlit) (3.1.6)\n",
            "Requirement already satisfied: jsonschema>=3.0 in /usr/local/lib/python3.11/dist-packages (from altair<6,>=4.0->streamlit) (4.23.0)\n",
            "Requirement already satisfied: narwhals>=1.14.2 in /usr/local/lib/python3.11/dist-packages (from altair<6,>=4.0->streamlit) (1.29.1)\n",
            "Requirement already satisfied: gitdb<5,>=4.0.1 in /usr/local/lib/python3.11/dist-packages (from gitpython!=3.1.19,<4,>=3.0.7->streamlit) (4.0.12)\n",
            "Requirement already satisfied: python-dateutil>=2.8.2 in /usr/local/lib/python3.11/dist-packages (from pandas<3,>=1.4.0->streamlit) (2.8.2)\n",
            "Requirement already satisfied: pytz>=2020.1 in /usr/local/lib/python3.11/dist-packages (from pandas<3,>=1.4.0->streamlit) (2025.1)\n",
            "Requirement already satisfied: tzdata>=2022.7 in /usr/local/lib/python3.11/dist-packages (from pandas<3,>=1.4.0->streamlit) (2025.1)\n",
            "Requirement already satisfied: charset-normalizer<4,>=2 in /usr/local/lib/python3.11/dist-packages (from requests<3,>=2.27->streamlit) (3.4.1)\n",
            "Requirement already satisfied: idna<4,>=2.5 in /usr/local/lib/python3.11/dist-packages (from requests<3,>=2.27->streamlit) (3.10)\n",
            "Requirement already satisfied: urllib3<3,>=1.21.1 in /usr/local/lib/python3.11/dist-packages (from requests<3,>=2.27->streamlit) (2.3.0)\n",
            "Requirement already satisfied: certifi>=2017.4.17 in /usr/local/lib/python3.11/dist-packages (from requests<3,>=2.27->streamlit) (2025.1.31)\n",
            "Requirement already satisfied: smmap<6,>=3.0.1 in /usr/local/lib/python3.11/dist-packages (from gitdb<5,>=4.0.1->gitpython!=3.1.19,<4,>=3.0.7->streamlit) (5.0.2)\n",
            "Requirement already satisfied: MarkupSafe>=2.0 in /usr/local/lib/python3.11/dist-packages (from jinja2->altair<6,>=4.0->streamlit) (3.0.2)\n",
            "Requirement already satisfied: attrs>=22.2.0 in /usr/local/lib/python3.11/dist-packages (from jsonschema>=3.0->altair<6,>=4.0->streamlit) (25.1.0)\n",
            "Requirement already satisfied: jsonschema-specifications>=2023.03.6 in /usr/local/lib/python3.11/dist-packages (from jsonschema>=3.0->altair<6,>=4.0->streamlit) (2024.10.1)\n",
            "Requirement already satisfied: referencing>=0.28.4 in /usr/local/lib/python3.11/dist-packages (from jsonschema>=3.0->altair<6,>=4.0->streamlit) (0.36.2)\n",
            "Requirement already satisfied: rpds-py>=0.7.1 in /usr/local/lib/python3.11/dist-packages (from jsonschema>=3.0->altair<6,>=4.0->streamlit) (0.23.1)\n",
            "Requirement already satisfied: six>=1.5 in /usr/local/lib/python3.11/dist-packages (from python-dateutil>=2.8.2->pandas<3,>=1.4.0->streamlit) (1.17.0)\n",
            "Downloading streamlit-1.43.2-py2.py3-none-any.whl (9.7 MB)\n",
            "\u001b[2K   \u001b[90m━━━━━━━━━━━━━━━━━━━━━━━━━━━━━━━━━━━━━━━━\u001b[0m \u001b[32m9.7/9.7 MB\u001b[0m \u001b[31m75.4 MB/s\u001b[0m eta \u001b[36m0:00:00\u001b[0m\n",
            "\u001b[?25hDownloading pydeck-0.9.1-py2.py3-none-any.whl (6.9 MB)\n",
            "\u001b[2K   \u001b[90m━━━━━━━━━━━━━━━━━━━━━━━━━━━━━━━━━━━━━━━━\u001b[0m \u001b[32m6.9/6.9 MB\u001b[0m \u001b[31m104.4 MB/s\u001b[0m eta \u001b[36m0:00:00\u001b[0m\n",
            "\u001b[?25hDownloading watchdog-6.0.0-py3-none-manylinux2014_x86_64.whl (79 kB)\n",
            "\u001b[2K   \u001b[90m━━━━━━━━━━━━━━━━━━━━━━━━━━━━━━━━━━━━━━━━\u001b[0m \u001b[32m79.1/79.1 kB\u001b[0m \u001b[31m5.7 MB/s\u001b[0m eta \u001b[36m0:00:00\u001b[0m\n",
            "\u001b[?25hInstalling collected packages: watchdog, pydeck, streamlit\n",
            "Successfully installed pydeck-0.9.1 streamlit-1.43.2 watchdog-6.0.0\n"
          ]
        }
      ]
    },
    {
      "cell_type": "code",
      "source": [
        "import streamlit as st\n",
        "import pandas as pd\n",
        "import numpy as np\n",
        "import matplotlib.pyplot as plt\n",
        "\n",
        "# Portfolio Optimization & Risk Functions\n",
        "def calculate_var_cvar(portfolio_returns, confidence_level=0.95):\n",
        "    sorted_returns = np.sort(portfolio_returns)\n",
        "    var_index = int((1 - confidence_level) * len(sorted_returns))\n",
        "    var_95 = sorted_returns[var_index]\n",
        "    cvar_95 = sorted_returns[:var_index].mean()\n",
        "    return var_95, cvar_95\n",
        "\n",
        "def portfolio_performance(portfolio_returns):\n",
        "    annualized_return = np.mean(portfolio_returns) * 252\n",
        "    annualized_volatility = np.std(portfolio_returns) * np.sqrt(252)\n",
        "    sharpe_ratio = annualized_return / annualized_volatility\n",
        "    downside_returns = portfolio_returns[portfolio_returns < 0]\n",
        "    sortino_ratio = annualized_return / np.std(downside_returns) if len(downside_returns) > 0 else np.nan\n",
        "    var_95, cvar_95 = calculate_var_cvar(portfolio_returns)\n",
        "\n",
        "    return {\n",
        "        \"Annualized Return\": annualized_return,\n",
        "        \"Annualized Volatility\": annualized_volatility,\n",
        "        \"Sharpe Ratio\": sharpe_ratio,\n",
        "        \"Sortino Ratio\": sortino_ratio,\n",
        "        \"Value at Risk (VaR 95%)\": var_95,\n",
        "        \"Conditional VaR (CVaR 95%)\": cvar_95\n",
        "    }\n",
        "\n",
        "# Load Data (Simulating Portfolio Returns for Demo)\n",
        "np.random.seed(42)\n",
        "portfolio_returns = np.random.normal(0.0005, 0.02, 1825)  # 5 years of daily returns\n",
        "\n",
        "# Compute Performance Metrics\n",
        "metrics = portfolio_performance(portfolio_returns)\n",
        "\n",
        "# Streamlit App Layout\n",
        "st.title(\"📈 Portfolio Risk Prediction Dashboard\")\n",
        "st.sidebar.header(\"Portfolio Weights\")\n",
        "st.sidebar.text(\"AAPL: 55.78%\")\n",
        "st.sidebar.text(\"GOOGL: 0.00%\")\n",
        "st.sidebar.text(\"SPY: 0.00%\")\n",
        "st.sidebar.text(\"TLT: 24.08%\")\n",
        "st.sidebar.text(\"BTC-USD: 0.00%\")\n",
        "st.sidebar.text(\"ETH-USD: 20.12%\")\n",
        "\n",
        "st.header(\"Portfolio Performance Metrics\")\n",
        "for key, value in metrics.items():\n",
        "    st.write(f\"**{key}:** {value:.4f}\")\n",
        "\n",
        "# Cumulative Returns Plot\n",
        "cumulative_returns = (1 + portfolio_returns).cumprod()\n",
        "\n",
        "st.header(\"📊 Cumulative Portfolio Returns\")\n",
        "fig, ax = plt.subplots(figsize=(10, 5))\n",
        "ax.plot(cumulative_returns, label=\"Portfolio\", color=\"blue\")\n",
        "ax.set_title(\"Cumulative Portfolio Performance\")\n",
        "ax.set_xlabel(\"Days\")\n",
        "ax.set_ylabel(\"Cumulative Return\")\n",
        "ax.legend()\n",
        "st.pyplot(fig)\n",
        "\n",
        "st.write(\"🔹 This dashboard provides an overview of portfolio risk & returns.\")\n"
      ],
      "metadata": {
        "colab": {
          "base_uri": "https://localhost:8080/",
          "height": 1000
        },
        "id": "Jvo0O1ABIhEt",
        "outputId": "9be45408-56fe-41f7-d33c-38b367c6c16b"
      },
      "execution_count": 147,
      "outputs": [
        {
          "output_type": "stream",
          "name": "stderr",
          "text": [
            "2025-03-12 16:14:59.747 WARNING streamlit.runtime.scriptrunner_utils.script_run_context: Thread 'MainThread': missing ScriptRunContext! This warning can be ignored when running in bare mode.\n",
            "2025-03-12 16:15:00.062 \n",
            "  \u001b[33m\u001b[1mWarning:\u001b[0m to view this Streamlit app on a browser, run it with the following\n",
            "  command:\n",
            "\n",
            "    streamlit run /usr/local/lib/python3.11/dist-packages/colab_kernel_launcher.py [ARGUMENTS]\n",
            "2025-03-12 16:15:00.063 Thread 'MainThread': missing ScriptRunContext! This warning can be ignored when running in bare mode.\n",
            "2025-03-12 16:15:00.064 Thread 'MainThread': missing ScriptRunContext! This warning can be ignored when running in bare mode.\n",
            "2025-03-12 16:15:00.065 Thread 'MainThread': missing ScriptRunContext! This warning can be ignored when running in bare mode.\n",
            "2025-03-12 16:15:00.066 Thread 'MainThread': missing ScriptRunContext! This warning can be ignored when running in bare mode.\n",
            "2025-03-12 16:15:00.067 Thread 'MainThread': missing ScriptRunContext! This warning can be ignored when running in bare mode.\n",
            "2025-03-12 16:15:00.068 Thread 'MainThread': missing ScriptRunContext! This warning can be ignored when running in bare mode.\n",
            "2025-03-12 16:15:00.069 Thread 'MainThread': missing ScriptRunContext! This warning can be ignored when running in bare mode.\n",
            "2025-03-12 16:15:00.071 Thread 'MainThread': missing ScriptRunContext! This warning can be ignored when running in bare mode.\n",
            "2025-03-12 16:15:00.072 Thread 'MainThread': missing ScriptRunContext! This warning can be ignored when running in bare mode.\n",
            "2025-03-12 16:15:00.073 Thread 'MainThread': missing ScriptRunContext! This warning can be ignored when running in bare mode.\n",
            "2025-03-12 16:15:00.074 Thread 'MainThread': missing ScriptRunContext! This warning can be ignored when running in bare mode.\n",
            "2025-03-12 16:15:00.075 Thread 'MainThread': missing ScriptRunContext! This warning can be ignored when running in bare mode.\n",
            "2025-03-12 16:15:00.076 Thread 'MainThread': missing ScriptRunContext! This warning can be ignored when running in bare mode.\n",
            "2025-03-12 16:15:00.077 Thread 'MainThread': missing ScriptRunContext! This warning can be ignored when running in bare mode.\n",
            "2025-03-12 16:15:00.078 Thread 'MainThread': missing ScriptRunContext! This warning can be ignored when running in bare mode.\n",
            "2025-03-12 16:15:00.080 Thread 'MainThread': missing ScriptRunContext! This warning can be ignored when running in bare mode.\n",
            "2025-03-12 16:15:00.081 Thread 'MainThread': missing ScriptRunContext! This warning can be ignored when running in bare mode.\n",
            "2025-03-12 16:15:00.082 Thread 'MainThread': missing ScriptRunContext! This warning can be ignored when running in bare mode.\n",
            "2025-03-12 16:15:00.082 Thread 'MainThread': missing ScriptRunContext! This warning can be ignored when running in bare mode.\n",
            "2025-03-12 16:15:00.083 Thread 'MainThread': missing ScriptRunContext! This warning can be ignored when running in bare mode.\n",
            "2025-03-12 16:15:00.084 Thread 'MainThread': missing ScriptRunContext! This warning can be ignored when running in bare mode.\n",
            "2025-03-12 16:15:00.085 Thread 'MainThread': missing ScriptRunContext! This warning can be ignored when running in bare mode.\n",
            "2025-03-12 16:15:00.086 Thread 'MainThread': missing ScriptRunContext! This warning can be ignored when running in bare mode.\n",
            "2025-03-12 16:15:00.087 Thread 'MainThread': missing ScriptRunContext! This warning can be ignored when running in bare mode.\n",
            "2025-03-12 16:15:00.088 Thread 'MainThread': missing ScriptRunContext! This warning can be ignored when running in bare mode.\n",
            "2025-03-12 16:15:00.088 Thread 'MainThread': missing ScriptRunContext! This warning can be ignored when running in bare mode.\n",
            "2025-03-12 16:15:00.089 Thread 'MainThread': missing ScriptRunContext! This warning can be ignored when running in bare mode.\n",
            "2025-03-12 16:15:00.090 Thread 'MainThread': missing ScriptRunContext! This warning can be ignored when running in bare mode.\n",
            "2025-03-12 16:15:00.091 Thread 'MainThread': missing ScriptRunContext! This warning can be ignored when running in bare mode.\n",
            "2025-03-12 16:15:00.091 Thread 'MainThread': missing ScriptRunContext! This warning can be ignored when running in bare mode.\n",
            "2025-03-12 16:15:00.092 Thread 'MainThread': missing ScriptRunContext! This warning can be ignored when running in bare mode.\n",
            "2025-03-12 16:15:00.092 Thread 'MainThread': missing ScriptRunContext! This warning can be ignored when running in bare mode.\n",
            "2025-03-12 16:15:00.093 Thread 'MainThread': missing ScriptRunContext! This warning can be ignored when running in bare mode.\n",
            "2025-03-12 16:15:00.094 Thread 'MainThread': missing ScriptRunContext! This warning can be ignored when running in bare mode.\n",
            "2025-03-12 16:15:00.094 Thread 'MainThread': missing ScriptRunContext! This warning can be ignored when running in bare mode.\n",
            "2025-03-12 16:15:00.095 Thread 'MainThread': missing ScriptRunContext! This warning can be ignored when running in bare mode.\n",
            "2025-03-12 16:15:00.096 Thread 'MainThread': missing ScriptRunContext! This warning can be ignored when running in bare mode.\n",
            "2025-03-12 16:15:00.096 Thread 'MainThread': missing ScriptRunContext! This warning can be ignored when running in bare mode.\n",
            "2025-03-12 16:15:00.097 Thread 'MainThread': missing ScriptRunContext! This warning can be ignored when running in bare mode.\n",
            "2025-03-12 16:15:00.097 Thread 'MainThread': missing ScriptRunContext! This warning can be ignored when running in bare mode.\n",
            "2025-03-12 16:15:00.098 Thread 'MainThread': missing ScriptRunContext! This warning can be ignored when running in bare mode.\n",
            "2025-03-12 16:15:00.099 Thread 'MainThread': missing ScriptRunContext! This warning can be ignored when running in bare mode.\n",
            "2025-03-12 16:15:00.100 Thread 'MainThread': missing ScriptRunContext! This warning can be ignored when running in bare mode.\n",
            "2025-03-12 16:15:00.123 Thread 'MainThread': missing ScriptRunContext! This warning can be ignored when running in bare mode.\n",
            "2025-03-12 16:15:00.580 Thread 'MainThread': missing ScriptRunContext! This warning can be ignored when running in bare mode.\n",
            "2025-03-12 16:15:00.580 Thread 'MainThread': missing ScriptRunContext! This warning can be ignored when running in bare mode.\n",
            "2025-03-12 16:15:00.583 Thread 'MainThread': missing ScriptRunContext! This warning can be ignored when running in bare mode.\n",
            "2025-03-12 16:15:00.584 Thread 'MainThread': missing ScriptRunContext! This warning can be ignored when running in bare mode.\n",
            "2025-03-12 16:15:00.585 Thread 'MainThread': missing ScriptRunContext! This warning can be ignored when running in bare mode.\n",
            "2025-03-12 16:15:00.587 Thread 'MainThread': missing ScriptRunContext! This warning can be ignored when running in bare mode.\n"
          ]
        },
        {
          "output_type": "display_data",
          "data": {
            "text/plain": [
              "<Figure size 1000x500 with 1 Axes>"
            ],
            "image/png": "[encoded data removed]"
          },
          "metadata": {}
        }
      ]
    },
    {
      "cell_type": "code",
      "source": [
        "!pip install streamlit pyngrok\n"
      ],
      "metadata": {
        "colab": {
          "base_uri": "https://localhost:8080/"
        },
        "id": "gAjzGlZOJTQb",
        "outputId": "275338b8-68e6-462f-fd53-52a0c0f69578"
      },
      "execution_count": 150,
      "outputs": [
        {
          "output_type": "stream",
          "name": "stdout",
          "text": [
            "Requirement already satisfied: streamlit in /usr/local/lib/python3.11/dist-packages (1.43.2)\n",
            "Collecting pyngrok\n",
            "  Downloading pyngrok-7.2.3-py3-none-any.whl.metadata (8.7 kB)\n",
            "Requirement already satisfied: altair<6,>=4.0 in /usr/local/lib/python3.11/dist-packages (from streamlit) (5.5.0)\n",
            "Requirement already satisfied: blinker<2,>=1.0.0 in /usr/local/lib/python3.11/dist-packages (from streamlit) (1.9.0)\n",
            "Requirement already satisfied: cachetools<6,>=4.0 in /usr/local/lib/python3.11/dist-packages (from streamlit) (5.5.2)\n",
            "Requirement already satisfied: click<9,>=7.0 in /usr/local/lib/python3.11/dist-packages (from streamlit) (8.1.8)\n",
            "Requirement already satisfied: numpy<3,>=1.23 in /usr/local/lib/python3.11/dist-packages (from streamlit) (1.26.4)\n",
            "Requirement already satisfied: packaging<25,>=20 in /usr/local/lib/python3.11/dist-packages (from streamlit) (24.2)\n",
            "Requirement already satisfied: pandas<3,>=1.4.0 in /usr/local/lib/python3.11/dist-packages (from streamlit) (2.2.2)\n",
            "Requirement already satisfied: pillow<12,>=7.1.0 in /usr/local/lib/python3.11/dist-packages (from streamlit) (11.1.0)\n",
            "Requirement already satisfied: protobuf<6,>=3.20 in /usr/local/lib/python3.11/dist-packages (from streamlit) (4.25.6)\n",
            "Requirement already satisfied: pyarrow>=7.0 in /usr/local/lib/python3.11/dist-packages (from streamlit) (18.1.0)\n",
            "Requirement already satisfied: requests<3,>=2.27 in /usr/local/lib/python3.11/dist-packages (from streamlit) (2.32.3)\n",
            "Requirement already satisfied: tenacity<10,>=8.1.0 in /usr/local/lib/python3.11/dist-packages (from streamlit) (9.0.0)\n",
            "Requirement already satisfied: toml<2,>=0.10.1 in /usr/local/lib/python3.11/dist-packages (from streamlit) (0.10.2)\n",
            "Requirement already satisfied: typing-extensions<5,>=4.4.0 in /usr/local/lib/python3.11/dist-packages (from streamlit) (4.12.2)\n",
            "Requirement already satisfied: watchdog<7,>=2.1.5 in /usr/local/lib/python3.11/dist-packages (from streamlit) (6.0.0)\n",
            "Requirement already satisfied: gitpython!=3.1.19,<4,>=3.0.7 in /usr/local/lib/python3.11/dist-packages (from streamlit) (3.1.44)\n",
            "Requirement already satisfied: pydeck<1,>=0.8.0b4 in /usr/local/lib/python3.11/dist-packages (from streamlit) (0.9.1)\n",
            "Requirement already satisfied: tornado<7,>=6.0.3 in /usr/local/lib/python3.11/dist-packages (from streamlit) (6.4.2)\n",
            "Requirement already satisfied: PyYAML>=5.1 in /usr/local/lib/python3.11/dist-packages (from pyngrok) (6.0.2)\n",
            "Requirement already satisfied: jinja2 in /usr/local/lib/python3.11/dist-packages (from altair<6,>=4.0->streamlit) (3.1.6)\n",
            "Requirement already satisfied: jsonschema>=3.0 in /usr/local/lib/python3.11/dist-packages (from altair<6,>=4.0->streamlit) (4.23.0)\n",
            "Requirement already satisfied: narwhals>=1.14.2 in /usr/local/lib/python3.11/dist-packages (from altair<6,>=4.0->streamlit) (1.29.1)\n",
            "Requirement already satisfied: gitdb<5,>=4.0.1 in /usr/local/lib/python3.11/dist-packages (from gitpython!=3.1.19,<4,>=3.0.7->streamlit) (4.0.12)\n",
            "Requirement already satisfied: python-dateutil>=2.8.2 in /usr/local/lib/python3.11/dist-packages (from pandas<3,>=1.4.0->streamlit) (2.8.2)\n",
            "Requirement already satisfied: pytz>=2020.1 in /usr/local/lib/python3.11/dist-packages (from pandas<3,>=1.4.0->streamlit) (2025.1)\n",
            "Requirement already satisfied: tzdata>=2022.7 in /usr/local/lib/python3.11/dist-packages (from pandas<3,>=1.4.0->streamlit) (2025.1)\n",
            "Requirement already satisfied: charset-normalizer<4,>=2 in /usr/local/lib/python3.11/dist-packages (from requests<3,>=2.27->streamlit) (3.4.1)\n",
            "Requirement already satisfied: idna<4,>=2.5 in /usr/local/lib/python3.11/dist-packages (from requests<3,>=2.27->streamlit) (3.10)\n",
            "Requirement already satisfied: urllib3<3,>=1.21.1 in /usr/local/lib/python3.11/dist-packages (from requests<3,>=2.27->streamlit) (2.3.0)\n",
            "Requirement already satisfied: certifi>=2017.4.17 in /usr/local/lib/python3.11/dist-packages (from requests<3,>=2.27->streamlit) (2025.1.31)\n",
            "Requirement already satisfied: smmap<6,>=3.0.1 in /usr/local/lib/python3.11/dist-packages (from gitdb<5,>=4.0.1->gitpython!=3.1.19,<4,>=3.0.7->streamlit) (5.0.2)\n",
            "Requirement already satisfied: MarkupSafe>=2.0 in /usr/local/lib/python3.11/dist-packages (from jinja2->altair<6,>=4.0->streamlit) (3.0.2)\n",
            "Requirement already satisfied: attrs>=22.2.0 in /usr/local/lib/python3.11/dist-packages (from jsonschema>=3.0->altair<6,>=4.0->streamlit) (25.1.0)\n",
            "Requirement already satisfied: jsonschema-specifications>=2023.03.6 in /usr/local/lib/python3.11/dist-packages (from jsonschema>=3.0->altair<6,>=4.0->streamlit) (2024.10.1)\n",
            "Requirement already satisfied: referencing>=0.28.4 in /usr/local/lib/python3.11/dist-packages (from jsonschema>=3.0->altair<6,>=4.0->streamlit) (0.36.2)\n",
            "Requirement already satisfied: rpds-py>=0.7.1 in /usr/local/lib/python3.11/dist-packages (from jsonschema>=3.0->altair<6,>=4.0->streamlit) (0.23.1)\n",
            "Requirement already satisfied: six>=1.5 in /usr/local/lib/python3.11/dist-packages (from python-dateutil>=2.8.2->pandas<3,>=1.4.0->streamlit) (1.17.0)\n",
            "Downloading pyngrok-7.2.3-py3-none-any.whl (23 kB)\n",
            "Installing collected packages: pyngrok\n",
            "Successfully installed pyngrok-7.2.3\n"
          ]
        }
      ]
    },
    {
      "cell_type": "code",
      "source": [
        "%%writefile app.py\n",
        "import streamlit as st\n",
        "\n",
        "st.title(\"Portfolio Risk Prediction\")\n",
        "st.write(\"This is a Streamlit app running in Google Colab.\")\n"
      ],
      "metadata": {
        "colab": {
          "base_uri": "https://localhost:8080/"
        },
        "id": "NCdUG9afJbTw",
        "outputId": "b90b38be-e21d-4776-f9e9-0526f8c4e895"
      },
      "execution_count": 151,
      "outputs": [
        {
          "output_type": "stream",
          "name": "stdout",
          "text": [
            "Writing app.py\n"
          ]
        }
      ]
    },
    {
      "cell_type": "code",
      "source": [
        "public_url = ngrok.connect(port='8501')\n",
        "print(f\"Streamlit app is live at: {public_url}\")\n"
      ],
      "metadata": {
        "colab": {
          "base_uri": "https://localhost:8080/",
          "height": 162
        },
        "id": "gkk_n82DKFQA",
        "outputId": "cc9d59bc-a87d-4cc4-d3f2-b45fa1297d95"
      },
      "execution_count": 1,
      "outputs": [
        {
          "output_type": "error",
          "ename": "NameError",
          "evalue": "name 'ngrok' is not defined",
          "traceback": [
            "\u001b[0;31m---------------------------------------------------------------------------\u001b[0m",
            "\u001b[0;31mNameError\u001b[0m                                 Traceback (most recent call last)",
            "\u001b[0;32m<ipython-input-1-54bea554f302>\u001b[0m in \u001b[0;36m<cell line: 0>\u001b[0;34m()\u001b[0m\n\u001b[0;32m----> 1\u001b[0;31m \u001b[0mpublic_url\u001b[0m \u001b[0;34m=\u001b[0m \u001b[0mngrok\u001b[0m\u001b[0;34m.\u001b[0m\u001b[0mconnect\u001b[0m\u001b[0;34m(\u001b[0m\u001b[0mport\u001b[0m\u001b[0;34m=\u001b[0m\u001b[0;34m'8501'\u001b[0m\u001b[0;34m)\u001b[0m\u001b[0;34m\u001b[0m\u001b[0;34m\u001b[0m\u001b[0m\n\u001b[0m\u001b[1;32m      2\u001b[0m \u001b[0mprint\u001b[0m\u001b[0;34m(\u001b[0m\u001b[0;34mf\"Streamlit app is live at: {public_url}\"\u001b[0m\u001b[0;34m)\u001b[0m\u001b[0;34m\u001b[0m\u001b[0;34m\u001b[0m\u001b[0m\n",
            "\u001b[0;31mNameError\u001b[0m: name 'ngrok' is not defined"
          ]
        }
      ]
    },
    {
      "cell_type": "code",
      "source": [
        "from pyngrok import ngrok\n",
        "\n",
        "# Start Streamlit in the background\n",
        "!streamlit run app.py &\n",
        "\n",
        "# Create a public URL using ngrok\n",
        "url = pyngrok.connect(port=\"8501\")\n",
        "print(f\"Streamlit App URL: {url}\")\n"
      ],
      "metadata": {
        "colab": {
          "base_uri": "https://localhost:8080/"
        },
        "id": "mkXo7hU0Jeea",
        "outputId": "69902d9c-0759-4fac-f391-239300b068a6"
      },
      "execution_count": null,
      "outputs": [
        {
          "output_type": "stream",
          "name": "stdout",
          "text": [
            "\n",
            "Collecting usage statistics. To deactivate, set browser.gatherUsageStats to false.\n",
            "\u001b[0m\n",
            "\u001b[0m\n",
            "\u001b[34m\u001b[1m  You can now view your Streamlit app in your browser.\u001b[0m\n",
            "\u001b[0m\n",
            "\u001b[34m  Local URL: \u001b[0m\u001b[1mhttp://localhost:8501\u001b[0m\n",
            "\u001b[34m  Network URL: \u001b[0m\u001b[1mhttp://172.28.0.12:8501\u001b[0m\n",
            "\u001b[34m  External URL: \u001b[0m\u001b[1mhttp://34.125.3.207:8501\u001b[0m\n",
            "\u001b[0m\n"
          ]
        }
      ]
    },
    {
      "cell_type": "code",
      "source": [],
      "metadata": {
        "id": "JGM6DcT3JhQ-"
      },
      "execution_count": null,
      "outputs": []
    }
  ]
}